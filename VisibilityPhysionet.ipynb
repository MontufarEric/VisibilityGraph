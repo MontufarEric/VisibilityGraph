{
 "cells": [
  {
   "cell_type": "code",
   "execution_count": 1,
   "metadata": {},
   "outputs": [],
   "source": [
    "import os\n",
    "import numpy as np\n",
    "import matplotlib.pyplot as plt\n",
    "import pandas as pd\n",
    "import networkx as nx"
   ]
  },
  {
   "cell_type": "markdown",
   "metadata": {},
   "source": [
    "## sanos completos"
   ]
  },
  {
   "cell_type": "code",
   "execution_count": 2,
   "metadata": {},
   "outputs": [],
   "source": [
    "def SerieToNetMod(serie):\n",
    "    arrG1=[]\n",
    "    G=nx.Graph()\n",
    "    for Na in range (len(serie)):\n",
    "        ya=serie[Na]\n",
    "        maxslp=-1000\n",
    "        for Nb in range(Na+1,len(serie)):\n",
    "#             print(Na,Nb,Na-Nb)\n",
    "            yb=serie[Nb]\n",
    "            slp=(yb-ya)/(Nb-Na)\n",
    "            if slp > maxslp:\n",
    "                arrG1.append((Na,Nb))\n",
    "                maxslp=slp\n",
    "                \n",
    "    \n",
    "    for i in range(len(serie)):\n",
    "        G.add_node(i, y=serie[i])\n",
    "                                    \n",
    "    G.add_edges_from(arrG1)\n",
    "    \n",
    "    return(G)"
   ]
  },
  {
   "cell_type": "code",
   "execution_count": 3,
   "metadata": {},
   "outputs": [],
   "source": [
    "def exportGraph(G,name):\n",
    "    filename=name+'_linkList.tsv'\n",
    "    file=open(filename,mode='w')\n",
    "    file.write('source'+'\\t'+'target'+'\\n')\n",
    "    for link in G.edges():\n",
    "        file.write(str(link[0])+'\\t'+str(link[1])+'\\n')\n",
    "    file.close()"
   ]
  },
  {
   "cell_type": "markdown",
   "metadata": {},
   "source": [
    "## Sanos Completos"
   ]
  },
  {
   "cell_type": "code",
   "execution_count": 5,
   "metadata": {},
   "outputs": [],
   "source": [
    "path='/home/eric/Documents/TimeSeries/physionetDataset/SeriesPhysionet/Sanos/Completos/Series/'\n",
    "X=os.listdir(path)\n",
    "X.sort()"
   ]
  },
  {
   "cell_type": "code",
   "execution_count": null,
   "metadata": {
    "scrolled": false
   },
   "outputs": [
    {
     "name": "stdout",
     "output_type": "stream",
     "text": [
      "nsr38a.txt\n",
      "nsr39a.txt\n",
      "nsr40a.txt\n",
      "nsr41a.txt\n",
      "nsr42a.txt\n",
      "nsr43a.txt\n",
      "nsr44a.txt\n",
      "nsr45a.txt\n",
      "nsr46a.txt\n",
      "nsr47a.txt\n",
      "nsr48a.txt\n",
      "nsr49a.txt\n"
     ]
    }
   ],
   "source": [
    "for i in X[39:]:\n",
    "    if i[-1]=='t':\n",
    "        serie=np.loadtxt(path+i)\n",
    "        if serie.shape[1]==2:\n",
    "            serie=serie[:,1]\n",
    "        G=SerieToNetMod(serie)\n",
    "        exportGraph(G,'./SanosCompletos/'+i[:6]+'_linklist.tsv')\n",
    "        print(i)"
   ]
  },
  {
   "cell_type": "markdown",
   "metadata": {},
   "source": [
    "## Sanos Dormidos y Despiertos"
   ]
  },
  {
   "cell_type": "code",
   "execution_count": 4,
   "metadata": {},
   "outputs": [],
   "source": [
    "path='/home/eric/Documents/TimeSeries/physionetDataset/SeriesPhysionet/Sanos/Dormidos y Despiertos/Series/'\n",
    "X=os.listdir(path)\n",
    "X.sort()"
   ]
  },
  {
   "cell_type": "code",
   "execution_count": 5,
   "metadata": {
    "scrolled": true
   },
   "outputs": [
    {
     "name": "stdout",
     "output_type": "stream",
     "text": [
      "nsr22s.txt\n"
     ]
    },
    {
     "ename": "KeyboardInterrupt",
     "evalue": "",
     "output_type": "error",
     "traceback": [
      "\u001b[0;31m---------------------------------------------------------------------------\u001b[0m",
      "\u001b[0;31mKeyboardInterrupt\u001b[0m                         Traceback (most recent call last)",
      "\u001b[0;32m<ipython-input-5-5b9685a32731>\u001b[0m in \u001b[0;36m<module>\u001b[0;34m\u001b[0m\n\u001b[1;32m      7\u001b[0m     \u001b[0;32mexcept\u001b[0m\u001b[0;34m:\u001b[0m\u001b[0;34m\u001b[0m\u001b[0;34m\u001b[0m\u001b[0m\n\u001b[1;32m      8\u001b[0m         \u001b[0;32mpass\u001b[0m\u001b[0;34m\u001b[0m\u001b[0;34m\u001b[0m\u001b[0m\n\u001b[0;32m----> 9\u001b[0;31m     \u001b[0mG\u001b[0m\u001b[0;34m=\u001b[0m\u001b[0mSerieToNetMod\u001b[0m\u001b[0;34m(\u001b[0m\u001b[0mserie\u001b[0m\u001b[0;34m)\u001b[0m\u001b[0;34m\u001b[0m\u001b[0;34m\u001b[0m\u001b[0m\n\u001b[0m\u001b[1;32m     10\u001b[0m \u001b[0;34m\u001b[0m\u001b[0m\n\u001b[1;32m     11\u001b[0m     \u001b[0;32mif\u001b[0m \u001b[0;34m(\u001b[0m\u001b[0mi\u001b[0m\u001b[0;34m[\u001b[0m\u001b[0;36m5\u001b[0m\u001b[0;34m]\u001b[0m\u001b[0;34m==\u001b[0m\u001b[0;34m's'\u001b[0m\u001b[0;34m)\u001b[0m\u001b[0;34m:\u001b[0m\u001b[0;34m\u001b[0m\u001b[0;34m\u001b[0m\u001b[0m\n",
      "\u001b[0;32m<ipython-input-2-0652b2085063>\u001b[0m in \u001b[0;36mSerieToNetMod\u001b[0;34m(serie)\u001b[0m\n\u001b[1;32m      9\u001b[0m             \u001b[0myb\u001b[0m\u001b[0;34m=\u001b[0m\u001b[0mserie\u001b[0m\u001b[0;34m[\u001b[0m\u001b[0mNb\u001b[0m\u001b[0;34m]\u001b[0m\u001b[0;34m\u001b[0m\u001b[0;34m\u001b[0m\u001b[0m\n\u001b[1;32m     10\u001b[0m             \u001b[0mslp\u001b[0m\u001b[0;34m=\u001b[0m\u001b[0;34m(\u001b[0m\u001b[0myb\u001b[0m\u001b[0;34m-\u001b[0m\u001b[0mya\u001b[0m\u001b[0;34m)\u001b[0m\u001b[0;34m/\u001b[0m\u001b[0;34m(\u001b[0m\u001b[0mNb\u001b[0m\u001b[0;34m-\u001b[0m\u001b[0mNa\u001b[0m\u001b[0;34m)\u001b[0m\u001b[0;34m\u001b[0m\u001b[0;34m\u001b[0m\u001b[0m\n\u001b[0;32m---> 11\u001b[0;31m             \u001b[0;32mif\u001b[0m \u001b[0mslp\u001b[0m \u001b[0;34m>\u001b[0m \u001b[0mmaxslp\u001b[0m\u001b[0;34m:\u001b[0m\u001b[0;34m\u001b[0m\u001b[0;34m\u001b[0m\u001b[0m\n\u001b[0m\u001b[1;32m     12\u001b[0m                 \u001b[0marrG1\u001b[0m\u001b[0;34m.\u001b[0m\u001b[0mappend\u001b[0m\u001b[0;34m(\u001b[0m\u001b[0;34m(\u001b[0m\u001b[0mNa\u001b[0m\u001b[0;34m,\u001b[0m\u001b[0mNb\u001b[0m\u001b[0;34m)\u001b[0m\u001b[0;34m)\u001b[0m\u001b[0;34m\u001b[0m\u001b[0;34m\u001b[0m\u001b[0m\n\u001b[1;32m     13\u001b[0m                 \u001b[0mmaxslp\u001b[0m\u001b[0;34m=\u001b[0m\u001b[0mslp\u001b[0m\u001b[0;34m\u001b[0m\u001b[0;34m\u001b[0m\u001b[0m\n",
      "\u001b[0;31mKeyboardInterrupt\u001b[0m: "
     ]
    }
   ],
   "source": [
    "for i in X[82:]: \n",
    "    serie=np.loadtxt(path+str(i))\n",
    "    print(i)\n",
    "    try:\n",
    "        if np.shape(serie)[1]==2:\n",
    "            serie=[x[1] for x in serie]\n",
    "    except:\n",
    "        pass\n",
    "    G=SerieToNetMod(serie)\n",
    "\n",
    "    if (i[5]=='s'):\n",
    "        exportGraph(G,'./SanosDormidos/'+i[:6]+'_')\n",
    "    if (i[5]=='w' ):\n",
    "        exportGraph(G,'./SanosDespiertos/'+i[:6]+'_')"
   ]
  },
  {
   "cell_type": "markdown",
   "metadata": {},
   "source": [
    "## Congestivos Completos 2"
   ]
  },
  {
   "cell_type": "code",
   "execution_count": 4,
   "metadata": {},
   "outputs": [],
   "source": [
    "path='/home/eric/Documents/TimeSeries/physionetDataset/SeriesPhysionet/Congestivos/CHF02/Completos/Series/'\n",
    "X=os.listdir(path)\n",
    "X.sort()"
   ]
  },
  {
   "cell_type": "code",
   "execution_count": 9,
   "metadata": {},
   "outputs": [
    {
     "name": "stdout",
     "output_type": "stream",
     "text": [
      "chf204a.txt\n"
     ]
    }
   ],
   "source": [
    "for i in X[3:4]:\n",
    "    if i[-1]=='t':\n",
    "        serie=np.loadtxt(path+i)\n",
    "        if serie.shape[1]==2:\n",
    "            serie=serie[:,1]\n",
    "        G=SerieToNetMod(serie)\n",
    "        exportGraph(G,'./CongestivosCompletos/'+i[:6]+'_linklist.tsv')\n",
    "        print(i)"
   ]
  },
  {
   "cell_type": "code",
   "execution_count": 7,
   "metadata": {},
   "outputs": [
    {
     "data": {
      "text/plain": [
       "['chf203a.txt']"
      ]
     },
     "execution_count": 7,
     "metadata": {},
     "output_type": "execute_result"
    }
   ],
   "source": [
    "X[2:3]"
   ]
  },
  {
   "cell_type": "markdown",
   "metadata": {},
   "source": [
    "## Congestivos Completos 1"
   ]
  },
  {
   "cell_type": "code",
   "execution_count": 8,
   "metadata": {},
   "outputs": [],
   "source": [
    "path='/home/eric/Documents/TimeSeries/physionetDataset/SeriesPhysionet/Congestivos/CHF01/Completos/Series/'\n",
    "X=os.listdir(path)\n",
    "X.sort()"
   ]
  },
  {
   "cell_type": "code",
   "execution_count": 9,
   "metadata": {},
   "outputs": [
    {
     "data": {
      "text/plain": [
       "['chf003a.txt',\n",
       " 'chf004a.txt',\n",
       " 'chf005a.txt',\n",
       " 'chf006a.txt',\n",
       " 'chf007a.txt',\n",
       " 'chf008a.txt',\n",
       " 'chf009a.txt',\n",
       " 'chf010a.txt',\n",
       " 'chf011a.txt',\n",
       " 'chf012a.txt',\n",
       " 'chf013a.txt',\n",
       " 'chf014a.txt',\n",
       " 'chf015a.txt']"
      ]
     },
     "execution_count": 9,
     "metadata": {},
     "output_type": "execute_result"
    }
   ],
   "source": [
    "for i in X:\n",
    "    if i[-1]=='t':\n",
    "        serie=np.loadtxt(path+i)\n",
    "        if serie.shape[1]==2:\n",
    "            serie=serie[:,1]\n",
    "        G=SerieToNetMod(serie)\n",
    "        exportGraph(G,'./CongestivosCompletos/'+i[:6]+'_linklist.tsv')\n",
    "        print(i)"
   ]
  },
  {
   "cell_type": "markdown",
   "metadata": {},
   "source": [
    "## Congestivos Dormidos Y Despiertos 1"
   ]
  },
  {
   "cell_type": "code",
   "execution_count": 6,
   "metadata": {},
   "outputs": [],
   "source": [
    "path='/home/eric/Documents/TimeSeries/physionetDataset/SeriesPhysionet/Congestivos/CHF01/Dormidos y Despiertos/Series/'\n",
    "X=os.listdir(path)\n",
    "X.sort()"
   ]
  },
  {
   "cell_type": "code",
   "execution_count": 9,
   "metadata": {},
   "outputs": [
    {
     "name": "stdout",
     "output_type": "stream",
     "text": [
      "chf001s.txt\n",
      "chf001w.txt\n"
     ]
    },
    {
     "ename": "KeyboardInterrupt",
     "evalue": "",
     "output_type": "error",
     "traceback": [
      "\u001b[0;31m---------------------------------------------------------------------------\u001b[0m",
      "\u001b[0;31mKeyboardInterrupt\u001b[0m                         Traceback (most recent call last)",
      "\u001b[0;32m<ipython-input-9-7ac647410224>\u001b[0m in \u001b[0;36m<module>\u001b[0;34m\u001b[0m\n\u001b[1;32m      7\u001b[0m     \u001b[0;32mexcept\u001b[0m\u001b[0;34m:\u001b[0m\u001b[0;34m\u001b[0m\u001b[0;34m\u001b[0m\u001b[0m\n\u001b[1;32m      8\u001b[0m         \u001b[0;32mpass\u001b[0m\u001b[0;34m\u001b[0m\u001b[0;34m\u001b[0m\u001b[0m\n\u001b[0;32m----> 9\u001b[0;31m     \u001b[0mG\u001b[0m\u001b[0;34m=\u001b[0m\u001b[0mSerieToNetMod\u001b[0m\u001b[0;34m(\u001b[0m\u001b[0mserie\u001b[0m\u001b[0;34m)\u001b[0m\u001b[0;34m\u001b[0m\u001b[0;34m\u001b[0m\u001b[0m\n\u001b[0m\u001b[1;32m     10\u001b[0m \u001b[0;34m\u001b[0m\u001b[0m\n\u001b[1;32m     11\u001b[0m     \u001b[0;32mif\u001b[0m \u001b[0;34m(\u001b[0m\u001b[0mi\u001b[0m\u001b[0;34m[\u001b[0m\u001b[0;36m6\u001b[0m\u001b[0;34m]\u001b[0m\u001b[0;34m==\u001b[0m\u001b[0;34m's'\u001b[0m\u001b[0;34m)\u001b[0m\u001b[0;34m:\u001b[0m\u001b[0;34m\u001b[0m\u001b[0;34m\u001b[0m\u001b[0m\n",
      "\u001b[0;32m<ipython-input-2-0652b2085063>\u001b[0m in \u001b[0;36mSerieToNetMod\u001b[0;34m(serie)\u001b[0m\n\u001b[1;32m      7\u001b[0m         \u001b[0;32mfor\u001b[0m \u001b[0mNb\u001b[0m \u001b[0;32min\u001b[0m \u001b[0mrange\u001b[0m\u001b[0;34m(\u001b[0m\u001b[0mNa\u001b[0m\u001b[0;34m+\u001b[0m\u001b[0;36m1\u001b[0m\u001b[0;34m,\u001b[0m\u001b[0mlen\u001b[0m\u001b[0;34m(\u001b[0m\u001b[0mserie\u001b[0m\u001b[0;34m)\u001b[0m\u001b[0;34m)\u001b[0m\u001b[0;34m:\u001b[0m\u001b[0;34m\u001b[0m\u001b[0;34m\u001b[0m\u001b[0m\n\u001b[1;32m      8\u001b[0m \u001b[0;31m#             print(Na,Nb,Na-Nb)\u001b[0m\u001b[0;34m\u001b[0m\u001b[0;34m\u001b[0m\u001b[0;34m\u001b[0m\u001b[0m\n\u001b[0;32m----> 9\u001b[0;31m             \u001b[0myb\u001b[0m\u001b[0;34m=\u001b[0m\u001b[0mserie\u001b[0m\u001b[0;34m[\u001b[0m\u001b[0mNb\u001b[0m\u001b[0;34m]\u001b[0m\u001b[0;34m\u001b[0m\u001b[0;34m\u001b[0m\u001b[0m\n\u001b[0m\u001b[1;32m     10\u001b[0m             \u001b[0mslp\u001b[0m\u001b[0;34m=\u001b[0m\u001b[0;34m(\u001b[0m\u001b[0myb\u001b[0m\u001b[0;34m-\u001b[0m\u001b[0mya\u001b[0m\u001b[0;34m)\u001b[0m\u001b[0;34m/\u001b[0m\u001b[0;34m(\u001b[0m\u001b[0mNb\u001b[0m\u001b[0;34m-\u001b[0m\u001b[0mNa\u001b[0m\u001b[0;34m)\u001b[0m\u001b[0;34m\u001b[0m\u001b[0;34m\u001b[0m\u001b[0m\n\u001b[1;32m     11\u001b[0m             \u001b[0;32mif\u001b[0m \u001b[0mslp\u001b[0m \u001b[0;34m>\u001b[0m \u001b[0mmaxslp\u001b[0m\u001b[0;34m:\u001b[0m\u001b[0;34m\u001b[0m\u001b[0;34m\u001b[0m\u001b[0m\n",
      "\u001b[0;31mKeyboardInterrupt\u001b[0m: "
     ]
    }
   ],
   "source": [
    "for i in X: \n",
    "    serie=np.loadtxt(path+str(i))\n",
    "    print(i)\n",
    "    try:\n",
    "        if np.shape(serie)[1]==2:\n",
    "            serie=[x[1] for x in serie]\n",
    "    except:\n",
    "        pass\n",
    "    G=SerieToNetMod(serie)\n",
    "\n",
    "    if (i[6]=='s'):\n",
    "        exportGraph(G,'./SanosDormidos/'+i[:7]+'_')\n",
    "    if (i[6]=='w' ):\n",
    "        exportGraph(G,'./SanosDespiertos/'+i[:7]+'_')"
   ]
  },
  {
   "cell_type": "markdown",
   "metadata": {},
   "source": [
    "## Congestivos Dormidos y Despiertos 2"
   ]
  },
  {
   "cell_type": "code",
   "execution_count": 15,
   "metadata": {},
   "outputs": [],
   "source": [
    "path='/home/eric/Documents/TimeSeries/physionetDataset/SeriesPhysionet/Congestivos/CHF02/Dormidos y Despiertos/Series/'\n",
    "X=os.listdir(path)\n",
    "X.sort()"
   ]
  },
  {
   "cell_type": "code",
   "execution_count": 16,
   "metadata": {},
   "outputs": [
    {
     "name": "stdout",
     "output_type": "stream",
     "text": [
      "chf201s.txt\n",
      "chf201w.txt\n",
      "chf202s.txt\n",
      "chf202w.txt\n",
      "chf203s.txt\n",
      "chf203w.txt\n",
      "chf204s.txt\n",
      "chf204w.txt\n",
      "chf205s.txt\n",
      "chf205w.txt\n",
      "chf207s.txt\n",
      "chf207w.txt\n",
      "chf208s.txt\n",
      "chf208w.txt\n",
      "chf209s.txt\n",
      "chf209w.txt\n",
      "chf210s.txt\n",
      "chf210w.txt\n",
      "chf211s.txt\n",
      "chf211w.txt\n",
      "chf212s.txt\n",
      "chf212w.txt\n",
      "chf213s.txt\n",
      "chf213w.txt\n",
      "chf214s.txt\n",
      "chf214w.txt\n",
      "chf215s.txt\n",
      "chf215w.txt\n",
      "chf216s.txt\n",
      "chf216w.txt\n",
      "chf217s.txt\n",
      "chf217w.txt\n",
      "chf218s.txt\n",
      "chf218w.txt\n",
      "chf219s.txt\n",
      "chf219w.txt\n",
      "chf220s.txt\n",
      "chf220w.txt\n",
      "chf221s.txt\n",
      "chf221w.txt\n",
      "chf223s.txt\n",
      "chf223w.txt\n",
      "chf224s.txt\n",
      "chf224w.txt\n",
      "chf225s.txt\n",
      "chf225w.txt\n",
      "chf226s.txt\n",
      "chf226w.txt\n",
      "chf227s.txt\n",
      "chf227w.txt\n",
      "chf228s.txt\n",
      "chf228w.txt\n",
      "chf229s.txt\n",
      "chf229w.txt\n"
     ]
    }
   ],
   "source": [
    "for i in X: \n",
    "    serie=np.loadtxt(path+str(i))\n",
    "    print(i)\n",
    "    try:\n",
    "        if np.shape(serie)[1]==2:\n",
    "            serie=[x[1] for x in serie]\n",
    "    except:\n",
    "        pass\n",
    "    G=SerieToNetMod(serie)\n",
    "\n",
    "    if (i[6]=='s'):\n",
    "        exportGraph(G,'./CongestivosDormidos/'+i[:7]+'_')\n",
    "    if (i[6]=='w' ):\n",
    "        exportGraph(G,'./CongestivosDespiertos/'+i[:7]+'_')"
   ]
  },
  {
   "cell_type": "code",
   "execution_count": 14,
   "metadata": {},
   "outputs": [
    {
     "name": "stdout",
     "output_type": "stream",
     "text": [
      "s\n",
      "w\n",
      "s\n",
      "w\n",
      "s\n",
      "w\n",
      "s\n",
      "w\n",
      "s\n",
      "w\n",
      "s\n",
      "w\n",
      "s\n",
      "w\n",
      "s\n",
      "w\n",
      "s\n",
      "w\n",
      "s\n",
      "w\n",
      "s\n",
      "w\n",
      "s\n",
      "w\n",
      "s\n",
      "w\n",
      "s\n",
      "w\n",
      "s\n",
      "w\n",
      "s\n",
      "w\n",
      "s\n",
      "w\n",
      "s\n",
      "w\n",
      "s\n",
      "w\n",
      "s\n",
      "w\n",
      "s\n",
      "w\n",
      "s\n",
      "w\n",
      "s\n",
      "w\n",
      "s\n",
      "w\n",
      "s\n",
      "w\n",
      "s\n",
      "w\n",
      "s\n",
      "w\n"
     ]
    }
   ],
   "source": [
    "for i in X:\n",
    "    print(i[6])"
   ]
  },
  {
   "cell_type": "code",
   "execution_count": null,
   "metadata": {},
   "outputs": [],
   "source": []
  },
  {
   "cell_type": "code",
   "execution_count": null,
   "metadata": {},
   "outputs": [],
   "source": []
  },
  {
   "cell_type": "code",
   "execution_count": null,
   "metadata": {},
   "outputs": [],
   "source": []
  },
  {
   "cell_type": "code",
   "execution_count": null,
   "metadata": {},
   "outputs": [],
   "source": []
  },
  {
   "cell_type": "code",
   "execution_count": null,
   "metadata": {},
   "outputs": [],
   "source": []
  },
  {
   "cell_type": "code",
   "execution_count": null,
   "metadata": {},
   "outputs": [],
   "source": []
  },
  {
   "cell_type": "code",
   "execution_count": null,
   "metadata": {},
   "outputs": [],
   "source": []
  },
  {
   "cell_type": "code",
   "execution_count": null,
   "metadata": {},
   "outputs": [],
   "source": []
  },
  {
   "cell_type": "code",
   "execution_count": null,
   "metadata": {},
   "outputs": [],
   "source": []
  },
  {
   "cell_type": "code",
   "execution_count": null,
   "metadata": {},
   "outputs": [],
   "source": []
  },
  {
   "cell_type": "code",
   "execution_count": null,
   "metadata": {},
   "outputs": [],
   "source": []
  },
  {
   "cell_type": "code",
   "execution_count": null,
   "metadata": {},
   "outputs": [],
   "source": []
  },
  {
   "cell_type": "code",
   "execution_count": null,
   "metadata": {},
   "outputs": [],
   "source": []
  },
  {
   "cell_type": "code",
   "execution_count": null,
   "metadata": {},
   "outputs": [],
   "source": []
  },
  {
   "cell_type": "code",
   "execution_count": null,
   "metadata": {},
   "outputs": [],
   "source": []
  },
  {
   "cell_type": "code",
   "execution_count": null,
   "metadata": {},
   "outputs": [],
   "source": []
  },
  {
   "cell_type": "code",
   "execution_count": null,
   "metadata": {},
   "outputs": [],
   "source": []
  },
  {
   "cell_type": "code",
   "execution_count": null,
   "metadata": {},
   "outputs": [],
   "source": []
  },
  {
   "cell_type": "code",
   "execution_count": null,
   "metadata": {},
   "outputs": [],
   "source": []
  },
  {
   "cell_type": "code",
   "execution_count": null,
   "metadata": {},
   "outputs": [],
   "source": []
  },
  {
   "cell_type": "code",
   "execution_count": null,
   "metadata": {},
   "outputs": [],
   "source": []
  },
  {
   "cell_type": "code",
   "execution_count": null,
   "metadata": {},
   "outputs": [],
   "source": []
  },
  {
   "cell_type": "code",
   "execution_count": null,
   "metadata": {},
   "outputs": [],
   "source": []
  },
  {
   "cell_type": "code",
   "execution_count": null,
   "metadata": {},
   "outputs": [],
   "source": []
  },
  {
   "cell_type": "code",
   "execution_count": null,
   "metadata": {},
   "outputs": [],
   "source": []
  },
  {
   "cell_type": "code",
   "execution_count": null,
   "metadata": {},
   "outputs": [],
   "source": []
  },
  {
   "cell_type": "code",
   "execution_count": null,
   "metadata": {},
   "outputs": [],
   "source": []
  },
  {
   "cell_type": "code",
   "execution_count": null,
   "metadata": {},
   "outputs": [],
   "source": []
  },
  {
   "cell_type": "code",
   "execution_count": null,
   "metadata": {},
   "outputs": [],
   "source": []
  },
  {
   "cell_type": "code",
   "execution_count": null,
   "metadata": {},
   "outputs": [],
   "source": []
  },
  {
   "cell_type": "code",
   "execution_count": null,
   "metadata": {},
   "outputs": [],
   "source": []
  },
  {
   "cell_type": "code",
   "execution_count": null,
   "metadata": {},
   "outputs": [],
   "source": []
  },
  {
   "cell_type": "code",
   "execution_count": null,
   "metadata": {},
   "outputs": [],
   "source": []
  },
  {
   "cell_type": "code",
   "execution_count": null,
   "metadata": {},
   "outputs": [],
   "source": []
  },
  {
   "cell_type": "code",
   "execution_count": null,
   "metadata": {},
   "outputs": [],
   "source": []
  },
  {
   "cell_type": "code",
   "execution_count": null,
   "metadata": {},
   "outputs": [],
   "source": []
  },
  {
   "cell_type": "code",
   "execution_count": null,
   "metadata": {},
   "outputs": [],
   "source": []
  },
  {
   "cell_type": "code",
   "execution_count": null,
   "metadata": {},
   "outputs": [],
   "source": []
  },
  {
   "cell_type": "code",
   "execution_count": null,
   "metadata": {},
   "outputs": [],
   "source": []
  }
 ],
 "metadata": {
  "kernelspec": {
   "display_name": "Python 3",
   "language": "python",
   "name": "python3"
  },
  "language_info": {
   "codemirror_mode": {
    "name": "ipython",
    "version": 3
   },
   "file_extension": ".py",
   "mimetype": "text/x-python",
   "name": "python",
   "nbconvert_exporter": "python",
   "pygments_lexer": "ipython3",
   "version": "3.7.1"
  }
 },
 "nbformat": 4,
 "nbformat_minor": 2
}
