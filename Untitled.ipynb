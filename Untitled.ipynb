{
 "cells": [
  {
   "cell_type": "code",
   "execution_count": 1,
   "metadata": {},
   "outputs": [],
   "source": [
    "\n",
    "import networkx as nx\n",
    "import numpy as np\n",
    "import time\n",
    "import matplotlib.pyplot as plt\n"
   ]
  },
  {
   "cell_type": "code",
   "execution_count": 31,
   "metadata": {},
   "outputs": [],
   "source": [
    "def SerieToNetMod(serie):\n",
    "    arrG1=[]\n",
    "    G=nx.Graph()\n",
    "    for Na in range (len(serie)):\n",
    "        ya=serie[Na]\n",
    "        maxslp=-1000\n",
    "        for Nb in range(Na+1,len(serie)):\n",
    "            yb=serie[Nb]\n",
    "            slp=(yb-ya)/(Nb-Na)\n",
    "            #print(Na,Nb,slp)\n",
    "            if slp > maxslp:\n",
    "                #print('yesssssssssssssssssssssssssss')\n",
    "                arrG1.append((Na,Nb))\n",
    "                maxslp=slp\n",
    "                \n",
    "    \n",
    "    for i in range(len(serie)):\n",
    "        G.add_node(i, y=serie[i])\n",
    "                                    \n",
    "    G.add_edges_from(arrG1)\n",
    "    \n",
    "    return(G)"
   ]
  },
  {
   "cell_type": "code",
   "execution_count": 3,
   "metadata": {},
   "outputs": [],
   "source": [
    "def SerieToNet(serie):\n",
    "    G=nx.Graph()\n",
    "    for i in range(len(serie)):\n",
    "        G.add_node(str(i), y=serie[i])\n",
    "\n",
    "    for N0 in G.nodes():\n",
    "        if int(N0)+1<len(G.nodes()):\n",
    "            G.add_edge(N0,str(int(N0)+1))  \n",
    "            \n",
    "    for N0 in G.nodes():\n",
    "        if int(N0)<len(G.nodes)-2:\n",
    "            ya=G.node[N0]['y']\n",
    "            ta=int(N0)\n",
    "            for N1 in range (int(N0)+2,len(G.nodes())):\n",
    "                flag=0\n",
    "                yb=G.node[str(N1)]['y']\n",
    "                tb=N1\n",
    "                for Nc in range(int(N0)+1,int(N1)):\n",
    "                    yc=G.node[str(Nc)]['y']\n",
    "                    tc=Nc\n",
    "                    tresh=yb + (ya-yb)*((tb-tc)/(tb-ta +np.finfo(float).eps))\n",
    "                    visible=yc<tresh\n",
    "\n",
    "                    if visible == False:\n",
    "                        flag=1\n",
    "                if flag==0:\n",
    "                    G.add_edge(N0,str(N1))\n",
    "\n",
    "    return(G)"
   ]
  },
  {
   "cell_type": "code",
   "execution_count": 4,
   "metadata": {},
   "outputs": [
    {
     "name": "stdout",
     "output_type": "stream",
     "text": [
      "--- 0.038695335388183594 seconds ---\n",
      "0 1 -9.0\n",
      "yesssssssssssssssssssssssssss\n",
      "0 2 -5.5\n",
      "yesssssssssssssssssssssssssss\n",
      "0 3 -2.3333333333333335\n",
      "yesssssssssssssssssssssssssss\n",
      "0 4 -2.75\n",
      "0 5 -2.0\n",
      "yesssssssssssssssssssssssssss\n",
      "0 6 -0.6666666666666666\n",
      "yesssssssssssssssssssssssssss\n",
      "0 7 -0.5714285714285714\n",
      "yesssssssssssssssssssssssssss\n",
      "0 8 -0.375\n",
      "yesssssssssssssssssssssssssss\n",
      "0 9 -0.6666666666666666\n",
      "0 10 0.0\n",
      "yesssssssssssssssssssssssssss\n",
      "0 11 0.36363636363636365\n",
      "yesssssssssssssssssssssssssss\n",
      "0 12 -0.9166666666666666\n",
      "0 13 0.3076923076923077\n",
      "0 14 -0.35714285714285715\n",
      "1 2 -2.0\n",
      "yesssssssssssssssssssssssssss\n",
      "1 3 1.0\n",
      "yesssssssssssssssssssssssssss\n",
      "1 4 -0.6666666666666666\n",
      "1 5 -0.25\n",
      "1 6 1.0\n",
      "1 7 0.8333333333333334\n",
      "1 8 0.8571428571428571\n",
      "1 9 0.375\n",
      "1 10 1.0\n",
      "1 11 1.3\n",
      "yesssssssssssssssssssssssssss\n",
      "1 12 -0.18181818181818182\n",
      "1 13 1.0833333333333333\n",
      "1 14 0.3076923076923077\n",
      "2 3 4.0\n",
      "yesssssssssssssssssssssssssss\n",
      "2 4 0.0\n",
      "2 5 0.3333333333333333\n",
      "2 6 1.75\n",
      "2 7 1.4\n",
      "2 8 1.3333333333333333\n",
      "2 9 0.7142857142857143\n",
      "2 10 1.375\n",
      "2 11 1.6666666666666667\n",
      "2 12 0.0\n",
      "2 13 1.3636363636363635\n",
      "2 14 0.5\n",
      "3 4 -4.0\n",
      "yesssssssssssssssssssssssssss\n",
      "3 5 -1.5\n",
      "yesssssssssssssssssssssssssss\n",
      "3 6 1.0\n",
      "yesssssssssssssssssssssssssss\n",
      "3 7 0.75\n",
      "3 8 0.8\n",
      "3 9 0.16666666666666666\n",
      "3 10 1.0\n",
      "3 11 1.375\n",
      "yesssssssssssssssssssssssssss\n",
      "3 12 -0.4444444444444444\n",
      "3 13 1.1\n",
      "3 14 0.18181818181818182\n",
      "4 5 1.0\n",
      "yesssssssssssssssssssssssssss\n",
      "4 6 3.5\n",
      "yesssssssssssssssssssssssssss\n",
      "4 7 2.3333333333333335\n",
      "4 8 2.0\n",
      "4 9 1.0\n",
      "4 10 1.8333333333333333\n",
      "4 11 2.142857142857143\n",
      "4 12 0.0\n",
      "4 13 1.6666666666666667\n",
      "4 14 0.6\n",
      "5 6 6.0\n",
      "yesssssssssssssssssssssssssss\n",
      "5 7 3.0\n",
      "5 8 2.3333333333333335\n",
      "5 9 1.0\n",
      "5 10 2.0\n",
      "5 11 2.3333333333333335\n",
      "5 12 -0.14285714285714285\n",
      "5 13 1.75\n",
      "5 14 0.5555555555555556\n",
      "6 7 0.0\n",
      "yesssssssssssssssssssssssssss\n",
      "6 8 0.5\n",
      "yesssssssssssssssssssssssssss\n",
      "6 9 -0.6666666666666666\n",
      "6 10 1.0\n",
      "yesssssssssssssssssssssssssss\n",
      "6 11 1.6\n",
      "yesssssssssssssssssssssssssss\n",
      "6 12 -1.1666666666666667\n",
      "6 13 1.1428571428571428\n",
      "6 14 -0.125\n",
      "7 8 1.0\n",
      "yesssssssssssssssssssssssssss\n",
      "7 9 -1.0\n",
      "7 10 1.3333333333333333\n",
      "yesssssssssssssssssssssssssss\n",
      "7 11 2.0\n",
      "yesssssssssssssssssssssssssss\n",
      "7 12 -1.4\n",
      "7 13 1.3333333333333333\n",
      "7 14 -0.14285714285714285\n",
      "8 9 -3.0\n",
      "yesssssssssssssssssssssssssss\n",
      "8 10 1.5\n",
      "yesssssssssssssssssssssssssss\n",
      "8 11 2.3333333333333335\n",
      "yesssssssssssssssssssssssssss\n",
      "8 12 -2.0\n",
      "8 13 1.4\n",
      "8 14 -0.3333333333333333\n",
      "9 10 6.0\n",
      "yesssssssssssssssssssssssssss\n",
      "9 11 5.0\n",
      "9 12 -1.6666666666666667\n",
      "9 13 2.5\n",
      "9 14 0.2\n",
      "10 11 4.0\n",
      "yesssssssssssssssssssssssssss\n",
      "10 12 -5.5\n",
      "10 13 1.3333333333333333\n",
      "10 14 -1.25\n",
      "11 12 -15.0\n",
      "yesssssssssssssssssssssssssss\n",
      "11 13 0.0\n",
      "yesssssssssssssssssssssssssss\n",
      "11 14 -3.0\n",
      "12 13 15.0\n",
      "yesssssssssssssssssssssssssss\n",
      "12 14 3.0\n",
      "13 14 -9.0\n",
      "yesssssssssssssssssssssssssss\n"
     ]
    }
   ],
   "source": [
    "start_time = time.time()\n",
    "serie=np.random.randint(1,20,15)\n",
    "print(\"--- %s seconds ---\" % (time.time() - start_time))\n",
    "G1= SerieToNetMod(serie)"
   ]
  },
  {
   "cell_type": "code",
   "execution_count": 5,
   "metadata": {
    "scrolled": true
   },
   "outputs": [
    {
     "data": {
      "text/plain": [
       "<StemContainer object of 3 artists>"
      ]
     },
     "execution_count": 5,
     "metadata": {},
     "output_type": "execute_result"
    },
    {
     "data": {
      "image/png": "[encoded data removed]",
      "text/plain": [
       "<Figure size 432x288 with 1 Axes>"
      ]
     },
     "metadata": {
      "needs_background": "light"
     },
     "output_type": "display_data"
    }
   ],
   "source": [
    "plt.stem(serie)\n",
    "# plt.plot(serie, 'r')"
   ]
  },
  {
   "cell_type": "code",
   "execution_count": 6,
   "metadata": {},
   "outputs": [
    {
     "data": {
      "text/plain": [
       "EdgeView([(0, 1), (0, 2), (0, 3), (0, 5), (0, 6), (0, 7), (0, 8), (0, 10), (0, 11), (1, 2), (1, 3), (1, 11), (2, 3), (3, 4), (3, 5), (3, 6), (3, 11), (4, 5), (4, 6), (5, 6), (6, 7), (6, 8), (6, 10), (6, 11), (7, 8), (7, 10), (7, 11), (8, 9), (8, 10), (8, 11), (9, 10), (10, 11), (11, 12), (11, 13), (12, 13), (13, 14)])"
      ]
     },
     "execution_count": 6,
     "metadata": {},
     "output_type": "execute_result"
    }
   ],
   "source": [
    "G1.edges"
   ]
  },
  {
   "cell_type": "code",
   "execution_count": 7,
   "metadata": {},
   "outputs": [
    {
     "data": {
      "text/plain": [
       "EdgeView([('0', '1'), ('0', '2'), ('0', '3'), ('0', '5'), ('0', '6'), ('0', '7'), ('0', '8'), ('0', '10'), ('0', '11'), ('1', '2'), ('1', '3'), ('1', '11'), ('2', '3'), ('3', '4'), ('3', '5'), ('3', '6'), ('3', '11'), ('4', '5'), ('4', '6'), ('5', '6'), ('6', '7'), ('6', '8'), ('6', '10'), ('6', '11'), ('7', '8'), ('7', '10'), ('7', '11'), ('8', '9'), ('8', '10'), ('8', '11'), ('9', '10'), ('10', '11'), ('11', '12'), ('11', '13'), ('12', '13'), ('13', '14')])"
      ]
     },
     "execution_count": 7,
     "metadata": {},
     "output_type": "execute_result"
    }
   ],
   "source": [
    "G2= SerieToNet(serie)\n",
    "G2.edges"
   ]
  },
  {
   "cell_type": "code",
   "execution_count": 57,
   "metadata": {},
   "outputs": [
    {
     "name": "stdout",
     "output_type": "stream",
     "text": [
      "[(11, 19)]\n",
      "[(11, 19), (13, 19)]\n",
      "[(11, 19), (13, 19), (14, 10)]\n"
     ]
    }
   ],
   "source": [
    "\n",
    "def maxlist(series,lista,index):\n",
    "    if len(series)==0:\n",
    "        lista.append((len(series)-1,series))\n",
    "        \n",
    "        return lista[:-1]\n",
    "    else: \n",
    "        max_index=np.argmax(series)\n",
    "        lista.append((max_index+index,np.max(series)))\n",
    "        index=max_index+1+index\n",
    "        print(lista)\n",
    "        return maxlist(series[max_index+1:],lista, index)\n",
    "\n",
    "lista=[]\n",
    "l=maxlist(serie,lista,0)\n"
   ]
  },
  {
   "cell_type": "code",
   "execution_count": 58,
   "metadata": {},
   "outputs": [
    {
     "data": {
      "text/plain": [
       "[(11, 19), (13, 19), (14, 10)]"
      ]
     },
     "execution_count": 58,
     "metadata": {},
     "output_type": "execute_result"
    }
   ],
   "source": [
    "l"
   ]
  },
  {
   "cell_type": "code",
   "execution_count": 9,
   "metadata": {},
   "outputs": [
    {
     "data": {
      "text/plain": [
       "array([ 4, 19, 10])"
      ]
     },
     "execution_count": 9,
     "metadata": {},
     "output_type": "execute_result"
    }
   ],
   "source": [
    "serie[np.argmax(serie)+1:]"
   ]
  },
  {
   "cell_type": "code",
   "execution_count": 10,
   "metadata": {
    "scrolled": true
   },
   "outputs": [
    {
     "data": {
      "text/plain": [
       "<StemContainer object of 3 artists>"
      ]
     },
     "execution_count": 10,
     "metadata": {},
     "output_type": "execute_result"
    },
    {
     "data": {
      "image/png": "[encoded data removed]",
      "text/plain": [
       "<Figure size 432x288 with 1 Axes>"
      ]
     },
     "metadata": {
      "needs_background": "light"
     },
     "output_type": "display_data"
    }
   ],
   "source": [
    "serie2=np.random.randint(1,20,16)\n",
    "plt.stem(serie2)"
   ]
  },
  {
   "cell_type": "code",
   "execution_count": 22,
   "metadata": {},
   "outputs": [],
   "source": [
    "series =np.random.randint(1,20,20)\n",
    "window=10"
   ]
  },
  {
   "cell_type": "code",
   "execution_count": 34,
   "metadata": {},
   "outputs": [
    {
     "data": {
      "text/plain": [
       "<StemContainer object of 3 artists>"
      ]
     },
     "execution_count": 34,
     "metadata": {},
     "output_type": "execute_result"
    },
    {
     "data": {
      "image/png": "[encoded data removed]",
      "text/plain": [
       "<Figure size 432x288 with 1 Axes>"
      ]
     },
     "metadata": {
      "needs_background": "light"
     },
     "output_type": "display_data"
    }
   ],
   "source": [
    "plt.stem(series)"
   ]
  },
  {
   "cell_type": "code",
   "execution_count": 84,
   "metadata": {},
   "outputs": [
    {
     "name": "stdout",
     "output_type": "stream",
     "text": [
      "[(3, 18)]\n",
      "[(3, 18), (6, 15)]\n",
      "[(3, 18), (6, 15), (8, 12)]\n",
      "[(3, 18), (6, 15), (8, 12), (9, 6)]\n",
      "13 (9, 6) 7.0\n",
      "13\n",
      "12 (9, 6) 3.0\n",
      "12\n",
      "11 (9, 6) 1.6666666666666667\n",
      "11\n",
      "15 (9, 6) 2.25\n",
      "15\n",
      "16 (9, 6) 2.0\n",
      "16\n",
      "1 (9, 6) -0.8333333333333334\n",
      "1\n",
      "19 (9, 6) 1.8571428571428572\n",
      "19\n",
      "17 (9, 6) 1.375\n",
      "17\n",
      "18 (9, 6) 1.3333333333333333\n",
      "18\n",
      "4 (9, 6) -0.2\n",
      "4\n"
     ]
    }
   ],
   "source": [
    "s=series[:window]\n",
    "G4=SerieToNetMod(s)\n",
    "lista=[]\n",
    "maxl=maxlist(s,lista,0)\n",
    "for i in range(window,len(series)):\n",
    "    mxslp=-1000\n",
    "    mxpos=0\n",
    "    for m in maxl[::-1]:\n",
    "        slp=(m[1]-series[i])/(m[0]-i)\n",
    "        if slp > mxslp:\n",
    "            mxslp=slp\n",
    "            mxpos=m[0]\n",
    "            print(series[i],m,slp)\n",
    "#         for node in s[:m[0]-1:-1]:\n",
    "#             print(series[i],node,slp)\n",
    "            \n",
    "        \n",
    "    \n",
    "    \n",
    "    print(series[i])"
   ]
  },
  {
   "cell_type": "code",
   "execution_count": 33,
   "metadata": {},
   "outputs": [
    {
     "name": "stdout",
     "output_type": "stream",
     "text": [
      "[(0, 1), (0, 3), (1, 2), (1, 3), (2, 3), (3, 4), (3, 5), (3, 6), (4, 5), (4, 6), (5, 6), (6, 7), (6, 8), (7, 8), (8, 9)]\n"
     ]
    }
   ],
   "source": [
    "print(G4.edges())"
   ]
  },
  {
   "cell_type": "code",
   "execution_count": 26,
   "metadata": {},
   "outputs": [
    {
     "data": {
      "text/plain": [
       "array([4])"
      ]
     },
     "execution_count": 26,
     "metadata": {},
     "output_type": "execute_result"
    }
   ],
   "source": [
    "s"
   ]
  },
  {
   "cell_type": "code",
   "execution_count": 36,
   "metadata": {},
   "outputs": [
    {
     "ename": "TypeError",
     "evalue": "'>' not supported between instances of 'int' and 'list'",
     "output_type": "error",
     "traceback": [
      "\u001b[0;31m---------------------------------------------------------------------------\u001b[0m",
      "\u001b[0;31mTypeError\u001b[0m                                 Traceback (most recent call last)",
      "\u001b[0;32m<ipython-input-36-11f4ec616c12>\u001b[0m in \u001b[0;36m<module>\u001b[0;34m\u001b[0m\n\u001b[0;32m----> 1\u001b[0;31m \u001b[0;36m10\u001b[0m\u001b[0;34m>\u001b[0m\u001b[0mlista\u001b[0m\u001b[0;34m\u001b[0m\u001b[0;34m\u001b[0m\u001b[0m\n\u001b[0m",
      "\u001b[0;31mTypeError\u001b[0m: '>' not supported between instances of 'int' and 'list'"
     ]
    }
   ],
   "source": [
    "10>lista"
   ]
  },
  {
   "cell_type": "code",
   "execution_count": 39,
   "metadata": {},
   "outputs": [],
   "source": [
    "for i in range(1,10,-1):\n",
    "    print(i)"
   ]
  },
  {
   "cell_type": "code",
   "execution_count": 63,
   "metadata": {},
   "outputs": [
    {
     "name": "stdout",
     "output_type": "stream",
     "text": [
      "(9, 6)\n",
      "(8, 12)\n",
      "(6, 15)\n",
      "(3, 18)\n"
     ]
    }
   ],
   "source": [
    "for i in  maxl[::-1]:\n",
    "    print(i)"
   ]
  },
  {
   "cell_type": "code",
   "execution_count": 61,
   "metadata": {},
   "outputs": [
    {
     "data": {
      "text/plain": [
       "[(3, 18), (6, 15), (8, 12), (9, 6)]"
      ]
     },
     "execution_count": 61,
     "metadata": {},
     "output_type": "execute_result"
    }
   ],
   "source": [
    "maxl"
   ]
  },
  {
   "cell_type": "code",
   "execution_count": 64,
   "metadata": {},
   "outputs": [
    {
     "ename": "TypeError",
     "evalue": "'>' not supported between instances of 'int' and 'tuple'",
     "output_type": "error",
     "traceback": [
      "\u001b[0;31m---------------------------------------------------------------------------\u001b[0m",
      "\u001b[0;31mTypeError\u001b[0m                                 Traceback (most recent call last)",
      "\u001b[0;32m<ipython-input-64-59985e3750d7>\u001b[0m in \u001b[0;36m<module>\u001b[0;34m\u001b[0m\n\u001b[0;32m----> 1\u001b[0;31m \u001b[0;36m10\u001b[0m\u001b[0;34m>\u001b[0m\u001b[0mmaxl\u001b[0m\u001b[0;34m[\u001b[0m\u001b[0;34m:\u001b[0m\u001b[0;34m]\u001b[0m\u001b[0;34m[\u001b[0m\u001b[0;36m0\u001b[0m\u001b[0;34m]\u001b[0m\u001b[0;34m\u001b[0m\u001b[0;34m\u001b[0m\u001b[0m\n\u001b[0m",
      "\u001b[0;31mTypeError\u001b[0m: '>' not supported between instances of 'int' and 'tuple'"
     ]
    }
   ],
   "source": [
    "10>maxl[:][0]"
   ]
  },
  {
   "cell_type": "code",
   "execution_count": 68,
   "metadata": {},
   "outputs": [
    {
     "data": {
      "text/plain": [
       "(3, 18)"
      ]
     },
     "execution_count": 68,
     "metadata": {},
     "output_type": "execute_result"
    }
   ],
   "source": [
    "maxl[][]"
   ]
  },
  {
   "cell_type": "code",
   "execution_count": 74,
   "metadata": {},
   "outputs": [
    {
     "data": {
      "text/plain": [
       "[6, 5, 4]"
      ]
     },
     "execution_count": 74,
     "metadata": {},
     "output_type": "execute_result"
    }
   ],
   "source": [
    "l=[1,2,3,4,5,6]\n",
    "l[:3-1:-1]"
   ]
  },
  {
   "cell_type": "code",
   "execution_count": null,
   "metadata": {},
   "outputs": [],
   "source": []
  }
 ],
 "metadata": {
  "kernelspec": {
   "display_name": "Python 3",
   "language": "python",
   "name": "python3"
  },
  "language_info": {
   "codemirror_mode": {
    "name": "ipython",
    "version": 3
   },
   "file_extension": ".py",
   "mimetype": "text/x-python",
   "name": "python",
   "nbconvert_exporter": "python",
   "pygments_lexer": "ipython3",
   "version": "3.7.1"
  }
 },
 "nbformat": 4,
 "nbformat_minor": 2
}
