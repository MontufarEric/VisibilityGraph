{
 "cells": [
  {
   "cell_type": "code",
   "execution_count": 1,
   "metadata": {},
   "outputs": [],
   "source": [
    "import matplotlib.pyplot as plt\n",
    "import numpy as np\n",
    "import networkx as nx\n",
    "import time"
   ]
  },
  {
   "cell_type": "code",
   "execution_count": 2,
   "metadata": {},
   "outputs": [],
   "source": [
    "def GraphToFile(G, filename):\n",
    "    nx.Graph(G)\n",
    "    saveFile = open(filename, 'w')\n",
    "    txt = 'graph Prim_1 {'\n",
    "    saveFile.write(txt)\n",
    "    try:\n",
    "        [saveFile.write('\\n' + u + '--' + v + ' [Label = \"' + str(G[u][v]['weight']) + '\"];') for u, v, d in\n",
    "     G.edges(data=True)]\n",
    "    except:\n",
    "        [saveFile.write('\\n' + str(u) + '--' + str(v) + ';') for u, v, d in\n",
    "     G.edges(data=True)]\n",
    "    #[print(u,v) for u, v, d in G.edges(data=True)]\n",
    "    saveFile.write('\\n }')\n",
    "    saveFile.close()"
   ]
  },
  {
   "cell_type": "code",
   "execution_count": 3,
   "metadata": {},
   "outputs": [],
   "source": [
    "def SerieToNet(serie):\n",
    "    G=nx.Graph()\n",
    "    for i in range(len(serie)):\n",
    "        G.add_node(str(i), y=serie[i])\n",
    "\n",
    "    for N0 in G.nodes():\n",
    "        if int(N0)+1<len(G.nodes()):\n",
    "            G.add_edge(N0,str(int(N0)+1))  \n",
    "            \n",
    "    for N0 in G.nodes():\n",
    "        if int(N0)<len(G.nodes)-2:\n",
    "            ya=G.node[N0]['y']\n",
    "            ta=int(N0)\n",
    "            for N1 in range (int(N0)+2,len(G.nodes())):\n",
    "                flag=0\n",
    "                yb=G.node[str(N1)]['y']\n",
    "                tb=N1\n",
    "                for Nc in range(int(N0)+1,int(N1)):\n",
    "                    yc=G.node[str(Nc)]['y']\n",
    "                    tc=Nc\n",
    "                    tresh=yb + (ya-yb)*((tb-tc)/(tb-ta))\n",
    "                    visible=yc<tresh\n",
    "\n",
    "                    if visible == False:\n",
    "                        flag=1\n",
    "                if flag==0:\n",
    "                    G.add_edge(N0,str(N1))\n",
    "\n",
    "    return(G)"
   ]
  },
  {
   "cell_type": "code",
   "execution_count": 6,
   "metadata": {},
   "outputs": [
    {
     "name": "stdout",
     "output_type": "stream",
     "text": [
      "--- 1.844017744064331 seconds ---\n"
     ]
    },
    {
     "data": {
      "image/png": "[encoded data removed]",
      "text/plain": [
       "<Figure size 432x288 with 1 Axes>"
      ]
     },
     "metadata": {},
     "output_type": "display_data"
    }
   ],
   "source": [
    "\n",
    "def main():\n",
    "# s=[8,8,9,1,3,7,4,2,1,6]\n",
    "    serie=np.random.randint(1,99,100)\n",
    "    G1=SerieToNet(serie)\n",
    "    GraphToFile(G1,'testviz3.gv')\n",
    "    plt.stem(serie)\n",
    "    return serie,G1\n",
    "\n",
    "start_time = time.time()\n",
    "serie,G=main()\n",
    "print(\"--- %s seconds ---\" % (time.time() - start_time))"
   ]
  },
  {
   "cell_type": "code",
   "execution_count": 7,
   "metadata": {},
   "outputs": [
    {
     "data": {
      "text/plain": [
       "(array([10.,  8.,  6., 10., 12.,  8., 14.,  9., 12., 11.]),\n",
       " array([ 1. , 10.7, 20.4, 30.1, 39.8, 49.5, 59.2, 68.9, 78.6, 88.3, 98. ]),\n",
       " <a list of 10 Patch objects>)"
      ]
     },
     "execution_count": 7,
     "metadata": {},
     "output_type": "execute_result"
    },
    {
     "data": {
      "image/png": "[encoded data removed]",
      "text/plain": [
       "<Figure size 432x288 with 1 Axes>"
      ]
     },
     "metadata": {},
     "output_type": "display_data"
    }
   ],
   "source": [
    "plt.hist(serie)\n",
    "    "
   ]
  },
  {
   "cell_type": "code",
   "execution_count": 9,
   "metadata": {},
   "outputs": [
    {
     "data": {
      "text/plain": [
       "(array([39., 29.,  5., 13.,  3.,  6.,  1.,  2.,  1.,  1.]),\n",
       " array([ 2. ,  3.6,  5.2,  6.8,  8.4, 10. , 11.6, 13.2, 14.8, 16.4, 18. ]),\n",
       " <a list of 10 Patch objects>)"
      ]
     },
     "execution_count": 9,
     "metadata": {},
     "output_type": "execute_result"
    },
    {
     "data": {
      "image/png": "[encoded data removed]",
      "text/plain": [
       "<Figure size 432x288 with 1 Axes>"
      ]
     },
     "metadata": {},
     "output_type": "display_data"
    }
   ],
   "source": [
    "gradlist=[ node[1] for node in G.degree() ]\n",
    "plt.hist(gradlist)"
   ]
  },
  {
   "cell_type": "code",
   "execution_count": null,
   "metadata": {},
   "outputs": [],
   "source": []
  }
 ],
 "metadata": {
  "kernelspec": {
   "display_name": "Python 3",
   "language": "python",
   "name": "python3"
  },
  "language_info": {
   "codemirror_mode": {
    "name": "ipython",
    "version": 3
   },
   "file_extension": ".py",
   "mimetype": "text/x-python",
   "name": "python",
   "nbconvert_exporter": "python",
   "pygments_lexer": "ipython3",
   "version": "3.6.5"
  }
 },
 "nbformat": 4,
 "nbformat_minor": 2
}
